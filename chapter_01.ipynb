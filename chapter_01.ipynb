{
 "cells": [
  {
   "cell_type": "code",
   "execution_count": 1,
   "id": "5a0bcb2c-5f03-456a-8af6-d717f93227e4",
   "metadata": {},
   "outputs": [],
   "source": [
    "import spacy"
   ]
  },
  {
   "cell_type": "code",
   "execution_count": 2,
   "id": "15fdad03-18a9-478c-aa4c-bed51f110f37",
   "metadata": {},
   "outputs": [],
   "source": [
    "nlp = spacy.blank(\"de\")"
   ]
  },
  {
   "cell_type": "code",
   "execution_count": 3,
   "id": "9d2c8797-1a06-4d59-b16c-cedee9b6c3d8",
   "metadata": {},
   "outputs": [],
   "source": [
    "doc = nlp(\"Hallo Welt!\")"
   ]
  },
  {
   "cell_type": "code",
   "execution_count": 4,
   "id": "8b6da01d-e946-4124-a820-11520e6bbf8f",
   "metadata": {},
   "outputs": [
    {
     "name": "stdout",
     "output_type": "stream",
     "text": [
      "Hallo\n",
      "Welt\n",
      "!\n"
     ]
    }
   ],
   "source": [
    "for token in doc:\n",
    "    print(token.text)"
   ]
  },
  {
   "cell_type": "code",
   "execution_count": 16,
   "id": "34f50456-78c9-4286-8548-6ddc9b8f8471",
   "metadata": {},
   "outputs": [
    {
     "name": "stdout",
     "output_type": "stream",
     "text": [
      "[0, 1, 2]\n",
      "['Hallo', 'Welt', '!']\n"
     ]
    }
   ],
   "source": [
    "print([token.i for token in doc])\n",
    "print([token.text for token in doc])"
   ]
  },
  {
   "cell_type": "code",
   "execution_count": 14,
   "id": "bd3a0e3b-da08-441c-a398-c7ad573eda6e",
   "metadata": {},
   "outputs": [],
   "source": [
    "span = doc[1:3]"
   ]
  },
  {
   "cell_type": "code",
   "execution_count": 15,
   "id": "3e1f2530-518d-4607-8a5a-2a1cdd57f429",
   "metadata": {},
   "outputs": [
    {
     "data": {
      "text/plain": [
       "Welt!"
      ]
     },
     "execution_count": 15,
     "metadata": {},
     "output_type": "execute_result"
    }
   ],
   "source": [
    "span"
   ]
  },
  {
   "cell_type": "code",
   "execution_count": 17,
   "id": "6bc6e65b-b86b-4ad2-9fc2-65c7fba059c4",
   "metadata": {},
   "outputs": [],
   "source": [
    "doc1 = nlp(\"Es kostet 5€.\")"
   ]
  },
  {
   "cell_type": "code",
   "execution_count": 19,
   "id": "bb60a339-11db-4ec1-9964-fb7f489a5bf1",
   "metadata": {},
   "outputs": [
    {
     "name": "stdout",
     "output_type": "stream",
     "text": [
      "Es\n",
      "kostet\n",
      "5€.\n"
     ]
    }
   ],
   "source": [
    "for token in doc1:\n",
    "    print(token.text)"
   ]
  },
  {
   "cell_type": "code",
   "execution_count": 18,
   "id": "b994e059-b1a3-47f8-b39c-422eb3c24088",
   "metadata": {},
   "outputs": [
    {
     "name": "stdout",
     "output_type": "stream",
     "text": [
      "Index:   [0, 1, 2]\n",
      "Text:    ['Es', 'kostet', '5€.']\n",
      "\n",
      "\n",
      "is_alpha: [True, True, False]\n",
      "is_punct: [False, False, False]\n",
      "like_num: [False, False, False]\n"
     ]
    }
   ],
   "source": [
    "print(\"Index:  \", [token.i for token in doc1])\n",
    "print(\"Text:   \", [token.text for token in doc1])\n",
    "print(\"\\n\")\n",
    "print(\"is_alpha:\", [token.is_alpha for token in doc1])\n",
    "print(\"is_punct:\", [token.is_punct for token in doc1])\n",
    "print(\"like_num:\", [token.like_num for token in doc1])"
   ]
  },
  {
   "cell_type": "code",
   "execution_count": null,
   "id": "7e8de82c-308e-42ea-b314-d2dc0e1fed27",
   "metadata": {},
   "outputs": [],
   "source": []
  }
 ],
 "metadata": {
  "kernelspec": {
   "display_name": "Python 3 (ipykernel)",
   "language": "python",
   "name": "python3"
  },
  "language_info": {
   "codemirror_mode": {
    "name": "ipython",
    "version": 3
   },
   "file_extension": ".py",
   "mimetype": "text/x-python",
   "name": "python",
   "nbconvert_exporter": "python",
   "pygments_lexer": "ipython3",
   "version": "3.11.3"
  }
 },
 "nbformat": 4,
 "nbformat_minor": 5
}
