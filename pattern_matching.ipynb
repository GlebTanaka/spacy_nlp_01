{
 "cells": [
  {
   "cell_type": "code",
   "execution_count": 1,
   "id": "ae13285b-e9c2-4721-8f68-e3c6478180db",
   "metadata": {},
   "outputs": [],
   "source": [
    "import spacy"
   ]
  },
  {
   "cell_type": "code",
   "execution_count": 2,
   "id": "3c7ce239-7785-4c09-a50e-4ad2a2f205b4",
   "metadata": {},
   "outputs": [],
   "source": [
    "from spacy.matcher import Matcher"
   ]
  },
  {
   "cell_type": "code",
   "execution_count": 3,
   "id": "76179353-e1a2-47d6-a7d0-c85892466195",
   "metadata": {},
   "outputs": [],
   "source": [
    "nlp = spacy.load(\"de_core_news_sm\")"
   ]
  },
  {
   "cell_type": "code",
   "execution_count": 20,
   "id": "6141c028-02ba-4ec8-bcd6-3710ece3d3be",
   "metadata": {},
   "outputs": [],
   "source": [
    "matcher = Matcher(nlp.vocab)"
   ]
  },
  {
   "cell_type": "code",
   "execution_count": 21,
   "id": "6bf25dd8-a88c-49fb-af36-6cb60759ed50",
   "metadata": {},
   "outputs": [],
   "source": [
    "pattern = [{\"TEXT\": \"iPhone\"}, {\"TEXT\": \"X\"}]"
   ]
  },
  {
   "cell_type": "code",
   "execution_count": 22,
   "id": "b51eff89-3075-4c0d-b3f8-7443aa6560ed",
   "metadata": {},
   "outputs": [],
   "source": [
    "matcher.add(\"IphonePattern\", [pattern]) "
   ]
  },
  {
   "cell_type": "code",
   "execution_count": 26,
   "id": "bd54fde7-733f-4fb2-a870-8326420a1e8b",
   "metadata": {},
   "outputs": [],
   "source": [
    "doc = nlp(\"Das neue iPhone X erscheint demnächst in Deutschland\")"
   ]
  },
  {
   "cell_type": "code",
   "execution_count": 27,
   "id": "228b8582-1308-47ae-a2df-57b4362d6df8",
   "metadata": {},
   "outputs": [],
   "source": [
    "matches = matcher(doc)"
   ]
  },
  {
   "cell_type": "code",
   "execution_count": 28,
   "id": "a0a48945-3672-4afb-970f-3e33ffbf2310",
   "metadata": {},
   "outputs": [
    {
     "name": "stdout",
     "output_type": "stream",
     "text": [
      "iPhone X\n"
     ]
    }
   ],
   "source": [
    "for match_id, start, end in matches:\n",
    "    matched_span = doc[start:end]\n",
    "    print(matched_span.text)"
   ]
  },
  {
   "cell_type": "code",
   "execution_count": 38,
   "id": "f0bec49c-8cf7-4b05-9d5f-539257ab6ef8",
   "metadata": {},
   "outputs": [],
   "source": [
    "pattern2 = [\n",
    "    {\"IS_DIGIT\": True},\n",
    "    {\"LOWER\": \"fifa\"},\n",
    "    {\"LOWER\": \"world\"},\n",
    "    {\"LOWER\": \"cup\"},\n",
    "    {\"IS_PUNCT\": True}\n",
    "]"
   ]
  },
  {
   "cell_type": "code",
   "execution_count": 39,
   "id": "d4521cb7-aa60-4ab8-b496-c81fbbfc555d",
   "metadata": {},
   "outputs": [],
   "source": [
    "matcher.add(\"WordlCupMatcher\", [pattern2])"
   ]
  },
  {
   "cell_type": "code",
   "execution_count": 40,
   "id": "78218469-b722-4b9f-8518-5dc498d7cfa8",
   "metadata": {},
   "outputs": [],
   "source": [
    "doc2 = nlp(\"2018 FIFA World Cup: Frankreich hat gewonnen!\")"
   ]
  },
  {
   "cell_type": "code",
   "execution_count": 41,
   "id": "9d28a3af-59d7-4178-9669-df947e9a70cb",
   "metadata": {},
   "outputs": [],
   "source": [
    "matches2 = matcher(doc2)"
   ]
  },
  {
   "cell_type": "code",
   "execution_count": 44,
   "id": "f75cd7d9-b99f-4d7d-ae9a-c70ce58f34a4",
   "metadata": {},
   "outputs": [
    {
     "name": "stdout",
     "output_type": "stream",
     "text": [
      "World Cup\n"
     ]
    }
   ],
   "source": [
    "for match_id, start, end in matches:\n",
    "    matched_span = doc2[start:end]\n",
    "    print(matched_span.text)"
   ]
  },
  {
   "cell_type": "code",
   "execution_count": 45,
   "id": "46ab4514-7083-4e63-900f-e2b14bd64325",
   "metadata": {},
   "outputs": [],
   "source": [
    "pattern3 = [\n",
    "    {\"LEMMA\": \"mögen\"},\n",
    "    {\"POS\": \"NOUN\"}\n",
    "]"
   ]
  },
  {
   "cell_type": "code",
   "execution_count": 46,
   "id": "20782852-6f0f-4ee0-9943-b76012badfc6",
   "metadata": {},
   "outputs": [],
   "source": [
    "matcher.add(\"TierMatcher\", [pattern3])"
   ]
  },
  {
   "cell_type": "code",
   "execution_count": 47,
   "id": "ad1e423a-a8f3-4d78-bd65-1878a632c69d",
   "metadata": {},
   "outputs": [],
   "source": [
    "doc3 = nlp(\"Ich mochte Hunde, aber ich mag Katzen jetzt lieber.\")"
   ]
  },
  {
   "cell_type": "code",
   "execution_count": 48,
   "id": "beb99bf9-f1e9-40e3-9c18-13d78a5ab605",
   "metadata": {},
   "outputs": [],
   "source": [
    "matches3 = matcher(doc3)"
   ]
  },
  {
   "cell_type": "code",
   "execution_count": 49,
   "id": "7a12bf0c-b155-4692-849f-82a44cb7d361",
   "metadata": {},
   "outputs": [
    {
     "name": "stdout",
     "output_type": "stream",
     "text": [
      "Hunde,\n"
     ]
    }
   ],
   "source": [
    "for match_id, start, end in matches:\n",
    "    matched_span = doc3[start:end]\n",
    "    print(matched_span.text)"
   ]
  },
  {
   "cell_type": "code",
   "execution_count": null,
   "id": "50d56325-9ccb-4b7d-aa87-0865a0c52dff",
   "metadata": {},
   "outputs": [],
   "source": []
  }
 ],
 "metadata": {
  "kernelspec": {
   "display_name": "Python 3 (ipykernel)",
   "language": "python",
   "name": "python3"
  },
  "language_info": {
   "codemirror_mode": {
    "name": "ipython",
    "version": 3
   },
   "file_extension": ".py",
   "mimetype": "text/x-python",
   "name": "python",
   "nbconvert_exporter": "python",
   "pygments_lexer": "ipython3",
   "version": "3.11.3"
  }
 },
 "nbformat": 4,
 "nbformat_minor": 5
}
